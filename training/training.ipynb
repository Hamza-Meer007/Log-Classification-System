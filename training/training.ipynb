{
 "cells": [
  {
   "cell_type": "markdown",
   "id": "461e49df",
   "metadata": {},
   "source": [
    "## Log Classification System"
   ]
  },
  {
   "cell_type": "code",
   "execution_count": null,
   "id": "3d672f9b",
   "metadata": {},
   "outputs": [],
   "source": [
    "import pandas as pd\n",
    "\n",
    "df = pd.read_csv(r\"training\\dataset\\synthetic_logs.csv\")\n",
    "\n",
    "df.head()"
   ]
  }
 ],
 "metadata": {
  "kernelspec": {
   "display_name": "venv",
   "language": "python",
   "name": "python3"
  },
  "language_info": {
   "name": "python",
   "version": "3.10.0"
  }
 },
 "nbformat": 4,
 "nbformat_minor": 5
}
